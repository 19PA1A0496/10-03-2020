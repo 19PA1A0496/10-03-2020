{
  "nbformat": 4,
  "nbformat_minor": 0,
  "metadata": {
    "colab": {
      "name": "ques 1.ipynb",
      "provenance": [],
      "include_colab_link": true
    },
    "kernelspec": {
      "name": "python3",
      "display_name": "Python 3"
    }
  },
  "cells": [
    {
      "cell_type": "markdown",
      "metadata": {
        "id": "view-in-github",
        "colab_type": "text"
      },
      "source": [
        "<a href=\"https://colab.research.google.com/github/19PA1A0496/10-03-2020/blob/master/ques_1.ipynb\" target=\"_parent\"><img src=\"https://colab.research.google.com/assets/colab-badge.svg\" alt=\"Open In Colab\"/></a>"
      ]
    },
    {
      "cell_type": "markdown",
      "metadata": {
        "id": "z82xjMVXpSmh"
      },
      "source": [
        "Create a 2-D NumPy array of size (4,5) and perform following operations on it\r\n",
        "\r\n",
        "a. Modify elements less than 4 with -1 in the array\r\n",
        "\r\n",
        "b. Apply “sin” operation on every element in the array and multiple by 10.\r\n",
        "\r\n",
        "c. Print 2nd column from 2nd and 3rd row\r\n",
        "\r\n",
        "d. Print element from last row and last column using negative indexing.\r\n",
        "\r\n",
        "e. Transpose a matrix\r\n",
        "\r\n",
        "f. Reshape the array into 2 rows and 10 columns\r\n",
        "\r\n",
        "g. Print last row using negative indexing\r\n",
        "\r\n",
        "h. Convert a 2-D array into 1-D array. Flatten the array"
      ]
    },
    {
      "cell_type": "code",
      "metadata": {
        "id": "EOC87pDTaw0j"
      },
      "source": [
        "import numpy as np"
      ],
      "execution_count": null,
      "outputs": []
    },
    {
      "cell_type": "code",
      "metadata": {
        "colab": {
          "base_uri": "https://localhost:8080/"
        },
        "id": "8Ug9nxoDbPz8",
        "outputId": "836b8041-6301-4227-b792-a55c3d7995e4"
      },
      "source": [
        "x = np.array([[1,2,3,4,5],[2,4,6,7,8],[3,5,8,0,1],[11,4,7,5,1]])\r\n",
        "x"
      ],
      "execution_count": null,
      "outputs": [
        {
          "output_type": "execute_result",
          "data": {
            "text/plain": [
              "array([[ 1,  2,  3,  4,  5],\n",
              "       [ 2,  4,  6,  7,  8],\n",
              "       [ 3,  5,  8,  0,  1],\n",
              "       [11,  4,  7,  5,  1]])"
            ]
          },
          "metadata": {
            "tags": []
          },
          "execution_count": 16
        }
      ]
    },
    {
      "cell_type": "code",
      "metadata": {
        "colab": {
          "base_uri": "https://localhost:8080/"
        },
        "id": "0hVJfFsObsIa",
        "outputId": "8a0cc1cf-29be-4aa1-a96c-cd3d168c055c"
      },
      "source": [
        "x.shape"
      ],
      "execution_count": null,
      "outputs": [
        {
          "output_type": "execute_result",
          "data": {
            "text/plain": [
              "(4, 5)"
            ]
          },
          "metadata": {
            "tags": []
          },
          "execution_count": 7
        }
      ]
    },
    {
      "cell_type": "code",
      "metadata": {
        "colab": {
          "base_uri": "https://localhost:8080/"
        },
        "id": "xg2TBYhPcTiJ",
        "outputId": "abfad892-61a9-4643-979c-d8ffd30b716b"
      },
      "source": [
        "n = x\r\n",
        "n[n<4] = -1 #replacing numbers less than 4 with -1\r\n",
        "n"
      ],
      "execution_count": null,
      "outputs": [
        {
          "output_type": "execute_result",
          "data": {
            "text/plain": [
              "array([[-1, -1, -1,  4,  5],\n",
              "       [-1,  4,  6,  7,  8],\n",
              "       [-1,  5,  8, -1, -1],\n",
              "       [11,  4,  7,  5, -1]])"
            ]
          },
          "metadata": {
            "tags": []
          },
          "execution_count": 9
        }
      ]
    },
    {
      "cell_type": "code",
      "metadata": {
        "colab": {
          "base_uri": "https://localhost:8080/"
        },
        "id": "Oo4mkyf6csjI",
        "outputId": "2ddc8cb5-3bec-4daa-9b6b-a71b16fa6b13"
      },
      "source": [
        "10*np.sin(x) #applying sin and multipling elements with 10"
      ],
      "execution_count": null,
      "outputs": [
        {
          "output_type": "execute_result",
          "data": {
            "text/plain": [
              "array([[-8.41470985, -8.41470985, -8.41470985, -7.56802495, -9.58924275],\n",
              "       [-8.41470985, -7.56802495, -2.79415498,  6.56986599,  9.89358247],\n",
              "       [-8.41470985, -9.58924275,  9.89358247, -8.41470985, -8.41470985],\n",
              "       [-9.99990207, -7.56802495,  6.56986599, -9.58924275, -8.41470985]])"
            ]
          },
          "metadata": {
            "tags": []
          },
          "execution_count": 10
        }
      ]
    },
    {
      "cell_type": "code",
      "metadata": {
        "colab": {
          "base_uri": "https://localhost:8080/"
        },
        "id": "zPKJArXKdl7a",
        "outputId": "5d122e3d-62de-490b-e83f-4673616b742d"
      },
      "source": [
        "x[1:3,1:2] #2nd and 3rd elements in 2nd column"
      ],
      "execution_count": null,
      "outputs": [
        {
          "output_type": "execute_result",
          "data": {
            "text/plain": [
              "array([[4],\n",
              "       [5]])"
            ]
          },
          "metadata": {
            "tags": []
          },
          "execution_count": 15
        }
      ]
    },
    {
      "cell_type": "code",
      "metadata": {
        "colab": {
          "base_uri": "https://localhost:8080/"
        },
        "id": "NHEzCE0Pe4gu",
        "outputId": "e0927fe5-5e9e-41a3-c505-762471997e94"
      },
      "source": [
        "x[-1,-1] # element at last row and last column"
      ],
      "execution_count": null,
      "outputs": [
        {
          "output_type": "execute_result",
          "data": {
            "text/plain": [
              "1"
            ]
          },
          "metadata": {
            "tags": []
          },
          "execution_count": 18
        }
      ]
    },
    {
      "cell_type": "code",
      "metadata": {
        "colab": {
          "base_uri": "https://localhost:8080/"
        },
        "id": "8_Xx02_kfFj6",
        "outputId": "c3a30f21-00f3-4620-a69a-a227f560959e"
      },
      "source": [
        "x.T #transpose of matrix"
      ],
      "execution_count": null,
      "outputs": [
        {
          "output_type": "execute_result",
          "data": {
            "text/plain": [
              "array([[ 1,  2,  3, 11],\n",
              "       [ 2,  4,  5,  4],\n",
              "       [ 3,  6,  8,  7],\n",
              "       [ 4,  7,  0,  5],\n",
              "       [ 5,  8,  1,  1]])"
            ]
          },
          "metadata": {
            "tags": []
          },
          "execution_count": 20
        }
      ]
    },
    {
      "cell_type": "code",
      "metadata": {
        "colab": {
          "base_uri": "https://localhost:8080/"
        },
        "id": "PRSDF7R-psJw",
        "outputId": "d304864d-5523-4f6a-9179-59f016b72208"
      },
      "source": [
        "x.reshape(2,10)"
      ],
      "execution_count": null,
      "outputs": [
        {
          "output_type": "execute_result",
          "data": {
            "text/plain": [
              "array([[ 1,  2,  3,  4,  5,  2,  4,  6,  7,  8],\n",
              "       [ 3,  5,  8,  0,  1, 11,  4,  7,  5,  1]])"
            ]
          },
          "metadata": {
            "tags": []
          },
          "execution_count": 24
        }
      ]
    },
    {
      "cell_type": "code",
      "metadata": {
        "colab": {
          "base_uri": "https://localhost:8080/"
        },
        "id": "Sd4p_N6tfeDq",
        "outputId": "a6dd3f76-c9e1-49bd-8605-d8779e9eb7b0"
      },
      "source": [
        "x[-1] #last row of matrix"
      ],
      "execution_count": null,
      "outputs": [
        {
          "output_type": "execute_result",
          "data": {
            "text/plain": [
              "array([11,  4,  7,  5,  1])"
            ]
          },
          "metadata": {
            "tags": []
          },
          "execution_count": 21
        }
      ]
    },
    {
      "cell_type": "code",
      "metadata": {
        "colab": {
          "base_uri": "https://localhost:8080/"
        },
        "id": "cTLwLkZrfss7",
        "outputId": "62c39a2d-ad45-4767-91b2-c3bd76256a92"
      },
      "source": [
        "x.ravel()"
      ],
      "execution_count": null,
      "outputs": [
        {
          "output_type": "execute_result",
          "data": {
            "text/plain": [
              "array([ 1,  2,  3,  4,  5,  2,  4,  6,  7,  8,  3,  5,  8,  0,  1, 11,  4,\n",
              "        7,  5,  1])"
            ]
          },
          "metadata": {
            "tags": []
          },
          "execution_count": 23
        }
      ]
    },
    {
      "cell_type": "code",
      "metadata": {
        "id": "ghCXq5UCdw10",
        "colab": {
          "base_uri": "https://localhost:8080/"
        },
        "outputId": "b7889ecc-0247-4e6f-ccf9-fec521e06e1a"
      },
      "source": [
        "x.flatten()"
      ],
      "execution_count": null,
      "outputs": [
        {
          "output_type": "execute_result",
          "data": {
            "text/plain": [
              "array([ 1,  2,  3,  4,  5,  2,  4,  6,  7,  8,  3,  5,  8,  0,  1, 11,  4,\n",
              "        7,  5,  1])"
            ]
          },
          "metadata": {
            "tags": []
          },
          "execution_count": 25
        }
      ]
    }
  ]
}